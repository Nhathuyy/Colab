{
  "nbformat": 4,
  "nbformat_minor": 0,
  "metadata": {
    "colab": {
      "private_outputs": true,
      "provenance": [],
      "include_colab_link": true
    },
    "kernelspec": {
      "name": "python3",
      "display_name": "Python 3"
    },
    "language_info": {
      "name": "python"
    },
    "accelerator": "GPU"
  },
  "cells": [
    {
      "cell_type": "markdown",
      "metadata": {
        "id": "view-in-github",
        "colab_type": "text"
      },
      "source": [
        "<a href=\"https://colab.research.google.com/github/Nhathuyy/Colab/blob/main/SXH.ipynb\" target=\"_parent\"><img src=\"https://colab.research.google.com/assets/colab-badge.svg\" alt=\"Open In Colab\"/></a>"
      ]
    },
    {
      "cell_type": "code",
      "execution_count": null,
      "metadata": {
        "id": "8Za2E7SJrWxQ"
      },
      "outputs": [],
      "source": [
        "from google.colab import drive\n",
        "drive.mount('/content/drive')"
      ]
    },
    {
      "cell_type": "code",
      "source": [
        "import pandas as pd\n",
        "import numpy as np\n",
        "import matplotlib.pyplot as plt\n",
        "import seaborn as sns\n",
        "%matplotlib inline"
      ],
      "metadata": {
        "id": "lKKti06WsJ8G"
      },
      "execution_count": null,
      "outputs": []
    },
    {
      "cell_type": "code",
      "source": [
        "url='https://github.com/Nhathuyy/MokeypoxVirus/blob/1fa2596eb4a6ea71d6740e0b9c09801e888e4ec3/Tonghop_Final.xlsx?raw=true'\n",
        "Datafinal_n = pd.read_excel(url)\n",
        "Datafinal_n.head()\n",
        "# đọc 5 dòng đầu tiên của file data"
      ],
      "metadata": {
        "id": "8LXMMQH5sMER"
      },
      "execution_count": null,
      "outputs": []
    },
    {
      "cell_type": "code",
      "source": [
        "Datafinal_n.shape\n"
      ],
      "metadata": {
        "id": "4PrWcFQGiXaP"
      },
      "execution_count": null,
      "outputs": []
    },
    {
      "cell_type": "code",
      "source": [],
      "metadata": {
        "id": "512JBBBLkPEo"
      },
      "execution_count": null,
      "outputs": []
    },
    {
      "cell_type": "code",
      "source": [
        "from sklearn.preprocessing import LabelEncoder\n",
        "kh_tinhtrang = LabelEncoder()\n"
      ],
      "metadata": {
        "id": "kdth85x4fFRQ"
      },
      "execution_count": null,
      "outputs": []
    },
    {
      "cell_type": "code",
      "source": [
        "Datafinal_n['tinh trang_n'] = kh_tinhtrang.fit_transform(Datafinal_n['Tình trạng'])"
      ],
      "metadata": {
        "id": "g3o0ZVevfwT9"
      },
      "execution_count": null,
      "outputs": []
    },
    {
      "cell_type": "code",
      "source": [
        "Datafinal_n"
      ],
      "metadata": {
        "id": "-k3wwOQIgBrV"
      },
      "execution_count": null,
      "outputs": []
    },
    {
      "cell_type": "code",
      "source": [
        "\n",
        "Datafinal_n.isnull().sum()"
      ],
      "metadata": {
        "id": "C_CP7YuJikoq"
      },
      "execution_count": null,
      "outputs": []
    },
    {
      "cell_type": "code",
      "source": [
        "Datafinal= Datafinal_n.drop(['Tình trạng'],axis='columns')"
      ],
      "metadata": {
        "id": "AQHBEpkPgSjR"
      },
      "execution_count": null,
      "outputs": []
    },
    {
      "cell_type": "code",
      "source": [
        "Datafinal"
      ],
      "metadata": {
        "id": "2azVfqNHgatb"
      },
      "execution_count": null,
      "outputs": []
    },
    {
      "cell_type": "code",
      "source": [
        "Datafinal.info()\n",
        "# Xem thông tin tổng quát về dataset"
      ],
      "metadata": {
        "id": "wA5PunECu0s8"
      },
      "execution_count": null,
      "outputs": []
    },
    {
      "cell_type": "code",
      "source": [
        "Datafinal.describe()\n",
        "# Sử dụng hàm describe() cho bạn các thống kê cơ bản về dữ liệu:\n"
      ],
      "metadata": {
        "id": "DHAOzeAuu2Zi"
      },
      "execution_count": null,
      "outputs": []
    },
    {
      "cell_type": "markdown",
      "source": [
        "# xem trực quan vể dữ liệu phân bố bằng Seaborn"
      ],
      "metadata": {
        "id": "VX638N7bu4gK"
      }
    },
    {
      "cell_type": "code",
      "source": [
        "sns.pairplot(Datafinal)"
      ],
      "metadata": {
        "id": "wD5UNAQ-u6Qr"
      },
      "execution_count": null,
      "outputs": []
    },
    {
      "cell_type": "markdown",
      "source": [
        "## Kiểm tra độ tương quan giữa các cột bằng bản đồ nhiệt"
      ],
      "metadata": {
        "id": "MUMCpv6su8jS"
      }
    },
    {
      "cell_type": "code",
      "source": [
        "plt.figure(figsize=(18,5))\n",
        "sns.heatmap(Datafinal.corr(), annot=True, lw = 1, linecolor=\"r\",cmap=\"coolwarm\")"
      ],
      "metadata": {
        "id": "2kH6SrU5u-Ai"
      },
      "execution_count": null,
      "outputs": []
    },
    {
      "cell_type": "code",
      "source": [
        "Datafinal.corr(method ='pearson')\n"
      ],
      "metadata": {
        "id": "BvPX5VWfvmOd"
      },
      "execution_count": null,
      "outputs": []
    },
    {
      "cell_type": "code",
      "source": [
        "Datafinal.drop(columns=['ThangCB', 'NamCB'])"
      ],
      "metadata": {
        "id": "lrGCweyas-_7"
      },
      "execution_count": null,
      "outputs": []
    },
    {
      "cell_type": "code",
      "source": [
        "dataset= Datafinal_n.drop(['Tình trạng','ThangCB', 'NamCB','Địa bàn','Ca bệnh','Ca tháng trước','Ca trung bình'],axis='columns')\n"
      ],
      "metadata": {
        "id": "zM2yX50Pb_8a"
      },
      "execution_count": null,
      "outputs": []
    },
    {
      "cell_type": "code",
      "source": [
        "import tensorflow as tf\n",
        "from tensorflow.python.client import device_lib\n",
        "print('Current Device: ', tf.test.gpu_device_name() + '\\n')\n",
        "device_lib.list_local_devices()"
      ],
      "metadata": {
        "id": "6XE2jTlEt1Kb"
      },
      "execution_count": null,
      "outputs": []
    },
    {
      "cell_type": "markdown",
      "source": [
        "## Xây dựng mô hình dự đoán bằng thư viện Scikit – Learn\n",
        "# Phân tách dữ liệu thành train và test\n",
        "\n",
        "Bây giờ chúng ta hãy bắt đầu đào tạo mô hình hồi quy. Trước tiên, chúng ta sẽ cần tách dữ liệu của mình thành một mảng X chứa các tính năng cần đào tạo (các biến độc lập) và một mảng y với biến mục tiêu (biến phụ thuộc), trong trường hợp này là cột Year.\n",
        "\n"
      ],
      "metadata": {
        "id": "r3aNs5r8w4PU"
      }
    },
    {
      "cell_type": "code",
      "source": [
        "X = Datafinal[['DI_Index','BI_Index','MD_DS','NDTB','DATB','LMTB']]\t\t"
      ],
      "metadata": {
        "id": "dRySALE6vxPr"
      },
      "execution_count": null,
      "outputs": []
    },
    {
      "cell_type": "code",
      "source": [
        "y = Datafinal['tinh trang_n']\n"
      ],
      "metadata": {
        "id": "fPCS0Vy347ZB"
      },
      "execution_count": null,
      "outputs": []
    },
    {
      "cell_type": "code",
      "source": [
        "y"
      ],
      "metadata": {
        "id": "uMm0iFdE5lLi"
      },
      "execution_count": null,
      "outputs": []
    },
    {
      "cell_type": "markdown",
      "source": [
        "# Giờ ta đã có hai biến X, y theo yêu cầu của mô hình, hai biến này dựa trên dữ liệu là dataset ta có được để đào tạo mô hình\n",
        "\n",
        "Giờ là ta tách các biến trên thành giá trị train và test, hai giá trị này chúng ta sẽ luôn gặp và sử dụng trong qua trình xây dựng mô hình máy học\n",
        "\n",
        "Đầu tiên, ta từ thư viện Scikti – Learn model_selection ta import train_test_split, phương thức này giúp ta tạo ra dữ liệu dùng để train và test mô hình\n",
        "# Sử dụng thư viện Sklearn\n"
      ],
      "metadata": {
        "id": "jRgfgApd8UAb"
      }
    },
    {
      "cell_type": "code",
      "source": [
        "from sklearn.model_selection import train_test_split"
      ],
      "metadata": {
        "id": "b27KIoe_8bTF"
      },
      "execution_count": null,
      "outputs": []
    },
    {
      "cell_type": "markdown",
      "source": [
        "Sau đó ta tạo 4 biến, gồm X_train, y_train và X_test, y_test"
      ],
      "metadata": {
        "id": "yRTzl-cE9vdY"
      }
    },
    {
      "cell_type": "code",
      "source": [
        "X_train, X_test, y_train, y_test = train_test_split(X, y, test_size=0.2, random_state=42)"
      ],
      "metadata": {
        "id": "FqOoQCWR9xn7"
      },
      "execution_count": null,
      "outputs": []
    },
    {
      "cell_type": "markdown",
      "source": [
        "Với đối số truyền vào là giá trị X, y ta đã lấy từ dữ liệu bên trên, test_size trả về cho ta phần trăm dữ liệu được chia, ví dụ 0.3 tương ứng với dữ liệu được chia thành 30% giá trị là test, còn lại là dữ liệu train. random_state bằng một số tương ứng nào đó để đảm bảo mỗi lần ta chạy lại mô hình, giá trị phân tách ngẫu nhiên nhận được là giống nhau, bạn có thể cho số nào bất kỳ, không quan trọng."
      ],
      "metadata": {
        "id": "0edjpO4T90nH"
      }
    },
    {
      "cell_type": "markdown",
      "source": [
        "# Tạo model và training Linear Regression\n",
        "**Từ thư viện Scikit – Learn , linear_model import module LinearRegression**"
      ],
      "metadata": {
        "id": "tKre9zE29-Cv"
      }
    },
    {
      "cell_type": "code",
      "source": [
        "from sklearn.linear_model import LinearRegression"
      ],
      "metadata": {
        "id": "K5WMT_Md9zzR"
      },
      "execution_count": null,
      "outputs": []
    },
    {
      "cell_type": "markdown",
      "source": [],
      "metadata": {
        "id": "KEu1Cvv590Ff"
      }
    },
    {
      "cell_type": "code",
      "source": [
        "lm = LinearRegression()\n"
      ],
      "metadata": {
        "id": "gNeF9wPT7T-7"
      },
      "execution_count": null,
      "outputs": []
    },
    {
      "cell_type": "markdown",
      "source": [
        "thực hiện thay đổi các giá bị lỗi cho các biến"
      ],
      "metadata": {
        "id": "j5SHK1DtN-mG"
      }
    },
    {
      "cell_type": "code",
      "source": [
        "X_train = X_train.replace((np.inf, -np.inf, np.nan), 0).reset_index(drop=True)\n"
      ],
      "metadata": {
        "id": "SsBrjGYiM3xA"
      },
      "execution_count": null,
      "outputs": []
    },
    {
      "cell_type": "code",
      "source": [
        "y_train = y_train.replace((np.inf, -np.inf, np.nan), 0).reset_index(drop=True)"
      ],
      "metadata": {
        "id": "rG9uIOBUQxDs"
      },
      "execution_count": null,
      "outputs": []
    },
    {
      "cell_type": "code",
      "source": [
        "\n",
        "X_test = X_test.replace((np.inf, -np.inf, np.nan), 0).reset_index(drop=True)"
      ],
      "metadata": {
        "id": "QE-yvJHXQzbN"
      },
      "execution_count": null,
      "outputs": []
    },
    {
      "cell_type": "code",
      "source": [
        "y_test = y_test.replace((np.inf, -np.inf, np.nan), 0).reset_index(drop=True)\n"
      ],
      "metadata": {
        "id": "j433fCRvQ0q6"
      },
      "execution_count": null,
      "outputs": []
    },
    {
      "cell_type": "code",
      "source": [
        "lm.fit(X_train,y_train)"
      ],
      "metadata": {
        "id": "3wI_Y5bWOEnE"
      },
      "execution_count": null,
      "outputs": []
    },
    {
      "cell_type": "code",
      "source": [],
      "metadata": {
        "id": "cdBX5jY6P0nO"
      },
      "execution_count": null,
      "outputs": []
    },
    {
      "cell_type": "code",
      "source": [
        "model = LinearRegression().fit(X_train, y_train)\n",
        "model.intercept_\n"
      ],
      "metadata": {
        "id": "Nqb9s4a7Pq5H"
      },
      "execution_count": null,
      "outputs": []
    },
    {
      "cell_type": "code",
      "source": [
        "model.coef_\n"
      ],
      "metadata": {
        "id": "OV9ST6p1P2MQ"
      },
      "execution_count": null,
      "outputs": []
    },
    {
      "cell_type": "code",
      "source": [
        "model.score(X_train, y_train)\n",
        "\n"
      ],
      "metadata": {
        "id": "kObmTXgAP911"
      },
      "execution_count": null,
      "outputs": []
    },
    {
      "cell_type": "markdown",
      "source": [
        "Kết quả trả về là một hàm LinearRegression(), chứng tỏ mô hình đã train xong"
      ],
      "metadata": {
        "id": "tGKHQr9gOBU2"
      }
    },
    {
      "cell_type": "markdown",
      "source": [
        "# **Dự đoán và đánh giá mô hình**\n",
        "\n",
        "Để dự đoán và kiểm tra mô hình, ta sử dụng dữ liệu test bên trên mà ta đã tách ra. Trong đó, X_test là các tính năng mà mô hình chưa biết, y_test là kết quả biết trước để ta so sánh với kết quả dự đoán từ X_test.\n",
        "\n",
        "Lấy kết quả dự đoán từ X_test, ta dùng phương thức predict() truyền đối số X_test vào"
      ],
      "metadata": {
        "id": "PtgA6JxCOK_Z"
      }
    },
    {
      "cell_type": "code",
      "source": [
        "predictions = lm.predict(X_test)\n"
      ],
      "metadata": {
        "id": "NBt44A3YONUm"
      },
      "execution_count": null,
      "outputs": []
    },
    {
      "cell_type": "code",
      "source": [
        "import pandas as pd \n",
        "from pandas.plotting import scatter_matrix\n",
        "import matplotlib.pyplot as plt\n",
        "from sklearn import model_selection\n",
        "from sklearn.metrics import classification_report\n",
        "from sklearn.metrics import confusion_matrix\n",
        "from sklearn.metrics import accuracy_score\n",
        "from sklearn.tree    import DecisionTreeClassifier"
      ],
      "metadata": {
        "id": "q7VR7whOz8X2"
      },
      "execution_count": null,
      "outputs": []
    },
    {
      "cell_type": "code",
      "source": [
        "from sklearn import tree\n",
        "decision_tree = tree.DecisionTreeClassifier(criterion='entropy')\n"
      ],
      "metadata": {
        "id": "lH_ZZSbUzita"
      },
      "execution_count": null,
      "outputs": []
    },
    {
      "cell_type": "code",
      "source": [
        "decision_tree.fit(X_train, y_train)"
      ],
      "metadata": {
        "id": "wvsht4u2zpz1"
      },
      "execution_count": null,
      "outputs": []
    },
    {
      "cell_type": "code",
      "source": [
        "predictions = decision_tree.predict(X_test)\n",
        "print(accuracy_score(y_test, predictions))\n",
        "print(confusion_matrix(y_test, predictions))\n",
        "print(classification_report(y_test, predictions))"
      ],
      "metadata": {
        "id": "9Rtx5v2JztPI"
      },
      "execution_count": null,
      "outputs": []
    },
    {
      "cell_type": "code",
      "source": [
        "print('The accuracy of the decision tree classsifier on training data is {:.2f}'.format(decision_tree.score(X_train, y_train)))\n",
        "print('The accuracy of the decison tree classìier on test data is {:.2f}'.format(decision_tree.score(X_test,y_test)))"
      ],
      "metadata": {
        "id": "73oKV3pB1gtZ"
      },
      "execution_count": null,
      "outputs": []
    },
    {
      "cell_type": "code",
      "source": [
        "from sklearn.metrics import accuracy_score"
      ],
      "metadata": {
        "id": "fbuCUb3XhA2B"
      },
      "execution_count": null,
      "outputs": []
    },
    {
      "cell_type": "markdown",
      "source": [
        "DI_Index','BI_Index','MD_DS','NDTB','DATB','LMTB"
      ],
      "metadata": {
        "id": "H0Dnpa3w1xUF"
      }
    },
    {
      "cell_type": "code",
      "source": [
        "def add(di,bi,md,nd,da,lm):\n",
        "    new_dc_n = pd.DataFrame({'DI_Index':[di],'BI_Index':[bi],'MD_DS':[md],'NDTB':[nd],'DATB':[da],'LMTB':[lm]}) \n",
        "    new_predd = decision_tree.predict(new_dc_n)\n",
        "    if(new_predd==1):\n",
        "        print('Nguy Cơ Dịch') \n",
        "          \n",
        "    else:\n",
        "    \n",
        "        print('An toàn')\n",
        "       \n",
        "    return add \n",
        "  \n",
        "\n",
        "# Nhập 2 số vào từ bàn phím\n",
        "di = float(input(\"chỉ số mật độ muỗi trưởng thành:\"))\n",
        "bi = float(input(\"chỉ số vật chứa lăng quăng:\"))\n",
        "md = int(input(\"mật độ dân số:\"))\n",
        "nd = float(input(\"nhiệt độ trung bình:\"))\n",
        "da = float(input(\"độ ẩm trung bình:\"))\n",
        "lm = float(input(\"lượng mưa trung bình:\"))\n",
        "\n",
        "# Gọi hàm add() vừa được định nghĩa ở trên\n",
        "tong = add(di,bi,md,nd,da,lm)\n",
        "# tong = add(0.3,20,3070,26,78,55)\n",
        "# In ra dự đoán vừa tính được\n",
        "\n",
        "\n"
      ],
      "metadata": {
        "id": "HHrpTwb-4_LF"
      },
      "execution_count": null,
      "outputs": []
    },
    {
      "cell_type": "code",
      "source": [],
      "metadata": {
        "id": "5pYt3khZZtw_"
      },
      "execution_count": null,
      "outputs": []
    },
    {
      "cell_type": "code",
      "source": [
        "type(tong)"
      ],
      "metadata": {
        "id": "U4Gx772lEq4q"
      },
      "execution_count": null,
      "outputs": []
    },
    {
      "cell_type": "code",
      "source": [],
      "metadata": {
        "id": "MKkK_g3lY2o2"
      },
      "execution_count": null,
      "outputs": []
    },
    {
      "cell_type": "code",
      "source": [
        "print(\"du doan:\"+str(tong))"
      ],
      "metadata": {
        "id": "AX4TKbA9B6Bf"
      },
      "execution_count": null,
      "outputs": []
    },
    {
      "cell_type": "code",
      "source": [
        "new_dc_n = pd.DataFrame({'DI_Index':[0.3,0.2,0.13],'BI_Index':[20,27,20],'MD_DS':[3070,5077,2117],'NDTB':[26,27,25.9],'DATB':[78,78,79],'LMTB':[55,55,55.1]})\n",
        "new_dc_n"
      ],
      "metadata": {
        "id": "jGx-qYUezl4z"
      },
      "execution_count": null,
      "outputs": []
    },
    {
      "cell_type": "code",
      "source": [
        "new_pred = decision_tree.predict(new_dc_n)\n",
        "new_pred"
      ],
      "metadata": {
        "id": "xw0TZbsr3i7p"
      },
      "execution_count": null,
      "outputs": []
    },
    {
      "cell_type": "code",
      "source": [
        "dataset"
      ],
      "metadata": {
        "id": "pfnUVoj4c0S2"
      },
      "execution_count": null,
      "outputs": []
    },
    {
      "cell_type": "code",
      "source": [
        "feature=dataset.columns[0:6]"
      ],
      "metadata": {
        "id": "0lmxxCokbXJa"
      },
      "execution_count": null,
      "outputs": []
    },
    {
      "cell_type": "code",
      "source": [
        "\n",
        "from sklearn import tree\n",
        "from sklearn import datasets\n",
        "from IPython.display import Image\n",
        "import pydotplus\n",
        "\n",
        "dot_data = tree.export_graphviz(decision_tree, out_file=None,class_names={0:'No',1:'Yes'},feature_names = feature)\n"
      ],
      "metadata": {
        "id": "SR2mT2BNa_B1"
      },
      "execution_count": null,
      "outputs": []
    },
    {
      "cell_type": "code",
      "source": [
        "graph = pydotplus.graph_from_dot_data(dot_data)\n",
        "\n",
        "Image(graph.create_png())"
      ],
      "metadata": {
        "id": "pzFJ9_W3dEPl"
      },
      "execution_count": null,
      "outputs": []
    },
    {
      "cell_type": "markdown",
      "source": [
        "Version 2\n",
        "Thêm cột ca trung bình"
      ],
      "metadata": {
        "id": "UcnzCiHVzFdG"
      }
    },
    {
      "cell_type": "code",
      "source": [
        "A = Datafinal[['Ca tháng trước','DI_Index','BI_Index','MD_DS','NDTB','DATB','LMTB']]\t\n",
        "b = Datafinal['tinh trang_n']\n",
        "from sklearn.model_selection import train_test_split\n",
        "A_train, A_test, b_train, b_test = train_test_split(A, b, test_size=0.2, random_state=42)\n",
        "import pandas as pd \n",
        "from pandas.plotting import scatter_matrix\n",
        "import matplotlib.pyplot as plt\n",
        "from sklearn import model_selection\n",
        "from sklearn.metrics import classification_report\n",
        "from sklearn.metrics import confusion_matrix\n",
        "from sklearn.metrics import accuracy_score\n",
        "from sklearn.tree    import DecisionTreeClassifier\n",
        "from sklearn import tree\n",
        "decision_tree_v2 = tree.DecisionTreeClassifier(criterion='entropy')\n",
        "decision_tree_v2.fit(A_train, b_train)\n",
        "predictions = decision_tree_v2.predict(A_test)\n",
        "print(accuracy_score(b_test, predictions))\n",
        "print(confusion_matrix(b_test, predictions))\n",
        "print(classification_report(b_test, predictions))\n",
        "print('The accuracy of the decision tree classsifier on training data is {:.2f}'.format(decision_tree_v2.score(A_train, b_train)))\n",
        "print('The accuracy of the decison tree classìier on test data is {:.2f}'.format(decision_tree_v2.score(A_test,b_test)))\n",
        "def add(di,bi,md,nd,da,lm):\n",
        "    new_dc_n = pd.DataFrame({'Ca tháng trước':[catr],'DI_Index':[di],'BI_Index':[bi],'MD_DS':[md],'NDTB':[nd],'DATB':[da],'LMTB':[lm]}) \n",
        "    new_predd = decision_tree_v2.predict(new_dc_n)\n",
        "    if(new_predd==1):\n",
        "        print('Nguy Cơ Dịch') \n",
        "          \n",
        "    else:\n",
        "    \n",
        "        print('An toàn')\n",
        "       \n",
        "    return add \n",
        "  \n",
        "\n",
        "# Nhập 2 số vào từ bàn phím\n",
        "catr = float(input(\"Ca tháng trước:\"))\n",
        "di = float(input(\"chỉ số mật độ muỗi trưởng thành:\"))\n",
        "bi = float(input(\"chỉ số vật chứa lăng quăng:\"))\n",
        "md = int(input(\"mật độ dân số:\"))\n",
        "nd = float(input(\"nhiệt độ trung bình:\"))\n",
        "da = float(input(\"độ ẩm trung bình:\"))\n",
        "lm = float(input(\"lượng mưa trung bình:\"))\n",
        "\n",
        "# Gọi hàm add() vừa được định nghĩa ở trên\n",
        "tong = add(di,bi,md,nd,da,lm)\n",
        "# tong = add(0.3,20,3070,26,78,55)\n",
        "# In ra dự đoán vừa tính được\n",
        "\n",
        "\n",
        "\n"
      ],
      "metadata": {
        "id": "ia7SIkvWzEo_"
      },
      "execution_count": null,
      "outputs": []
    },
    {
      "cell_type": "code",
      "source": [
        "y_train"
      ],
      "metadata": {
        "id": "AbI4tsxJhhG3"
      },
      "execution_count": null,
      "outputs": []
    },
    {
      "cell_type": "code",
      "source": [
        "\n",
        "plt.figure(figsize=(16,6));\n",
        "sns.barplot(\n",
        "    data=Datafinal, x=\"Ca bệnh\", y=\"DI_Index\", hue=\"tinh trang_n\");"
      ],
      "metadata": {
        "id": "Zo9KPV_TNoSr"
      },
      "execution_count": null,
      "outputs": []
    },
    {
      "cell_type": "code",
      "source": [
        "fig, axes = plt.subplots(1, 3, figsize=(15, 5), sharey=True)\n",
        "sns.boxplot(ax = axes[0],data =  Datafinal,x='Ca bệnh',palette = 'crest')\n",
        "sns.boxplot(ax = axes[1],data =  Datafinal,x='Ca tháng trước',palette = 'crest')\n",
        "sns.boxplot(ax = axes[2],data =  Datafinal,x='Ca trung bình',palette = 'crest');"
      ],
      "metadata": {
        "id": "wnxCXATlfQn-"
      },
      "execution_count": null,
      "outputs": []
    },
    {
      "cell_type": "code",
      "source": [
        " Datafinal"
      ],
      "metadata": {
        "id": "Yiwog3XPfWCU"
      },
      "execution_count": null,
      "outputs": []
    },
    {
      "cell_type": "code",
      "source": [
        "y.value_counts()"
      ],
      "metadata": {
        "id": "66eZCrdqfJjJ"
      },
      "execution_count": null,
      "outputs": []
    },
    {
      "cell_type": "code",
      "source": [
        "Datafinal.['tinh trang_n'].shape"
      ],
      "metadata": {
        "id": "tnnGDr5MkRct"
      },
      "execution_count": null,
      "outputs": []
    },
    {
      "cell_type": "code",
      "source": [
        "for i in range(0, len(cat_list)):\n",
        "    cat = cat_list[i]\n",
        "    for j in range(0, len(num_list)):\n",
        "        num = num_list[j]\n",
        "        plt.figure (figsize = (5,5))\n",
        "        sns.boxplot( x = cat, y = num, data = Datafinal, palette = \"GnBu\")"
      ],
      "metadata": {
        "id": "5s8zF5wUPRqI"
      },
      "execution_count": null,
      "outputs": []
    },
    {
      "cell_type": "code",
      "source": [
        "metrics.explained_variance_score(y_test, predictions)"
      ],
      "metadata": {
        "id": "MYcoBhxRuKNC"
      },
      "execution_count": null,
      "outputs": []
    },
    {
      "cell_type": "code",
      "source": [
        "predictions_a = lm.predict(X_train)\n",
        "print(predictions_a)"
      ],
      "metadata": {
        "id": "dR8JLnINsLwS"
      },
      "execution_count": null,
      "outputs": []
    },
    {
      "cell_type": "code",
      "source": [
        "metrics.explained_variance_score(y_train, predictions_a)"
      ],
      "metadata": {
        "id": "Qu486K4RusA4"
      },
      "execution_count": null,
      "outputs": []
    },
    {
      "cell_type": "code",
      "source": [
        "plt.scatter(y_train,predictions_a)\n",
        "plt.scatter(y_test,predictions)\n",
        "plt.plot(y_train,X_train,color='green')"
      ],
      "metadata": {
        "id": "Yli9NklpsTQO"
      },
      "execution_count": null,
      "outputs": []
    },
    {
      "cell_type": "markdown",
      "source": [
        "Kết quả dự đoán trên là một mảng trong numpy chứa kết quả dự đoán từ giá trị X_test, để kiểm tra kết quả dự đoán (predictions) và kết quả ban đầu (y_test) xem mô hình ta như thế nào? ta có thể trực quan quan sát bằng biểu đồ."
      ],
      "metadata": {
        "id": "ZRsNTSaXOQUi"
      }
    },
    {
      "cell_type": "markdown",
      "source": [
        "\n",
        "# Sử dụng biểu đồ phân tán (scatter) truyền vào 2 giá trị trên vào để quan sát"
      ],
      "metadata": {
        "id": "TUjreXTqOTFG"
      }
    },
    {
      "cell_type": "code",
      "source": [
        "plt.scatter(y_test,predictions, edgecolors='#d62728')\n",
        "plt.xlabel(\"\bKet qua ban dau\")\n",
        "plt.ylabel(\"Ket qua du doan\")\n",
        "plt.title(\"Bang du doan\")"
      ],
      "metadata": {
        "id": "ONYKMEddOU_f"
      },
      "execution_count": null,
      "outputs": []
    },
    {
      "cell_type": "code",
      "source": [
        "plt.scatter(y_test,predictions)"
      ],
      "metadata": {
        "id": "cTrAzw9_myp5"
      },
      "execution_count": null,
      "outputs": []
    },
    {
      "cell_type": "code",
      "source": [
        "knn = KNeighborsClassifier(n_neighbors = 2)\n",
        "knn.fit(X_train,y_train)\n",
        "y_pred_knn = knn.predict(X_test)\n",
        "y_pred_prob_knn = knn.predict_proba(X_test)[:, 1]\n",
        "\n",
        "skplt.metrics.plot_confusion_matrix(y_test, y_pred_knn, figsize=(6,6), cmap= 'YlGnBu');\n",
        "print('Accuracy:', accuracy_score(y_test, y_pred_knn))\n",
        "print('ROC AUC Score:', roc_auc_score(y_test, y_pred_prob_knn))"
      ],
      "metadata": {
        "id": "0vZhPgYer4tf"
      },
      "execution_count": null,
      "outputs": []
    },
    {
      "cell_type": "code",
      "source": [
        "Datafinal_n= pd.DataFrame(predictions.reshape(-1, len(predictions)),columns=)"
      ],
      "metadata": {
        "id": "6wMSpacUqsgM"
      },
      "execution_count": null,
      "outputs": []
    },
    {
      "cell_type": "code",
      "source": [],
      "metadata": {
        "id": "XVknAL3krE_m"
      },
      "execution_count": null,
      "outputs": []
    },
    {
      "cell_type": "code",
      "source": [
        "Datafinal_n['Dự Đoán'] = "
      ],
      "metadata": {
        "id": "MZ9wNrAhnEB4"
      },
      "execution_count": null,
      "outputs": []
    },
    {
      "cell_type": "code",
      "source": [
        "sns.relplot(data=Datafinal_n, x=\"predictions\", y=\"\", hue=\"smoker\")"
      ],
      "metadata": {
        "id": "f1pQCUoimCCo"
      },
      "execution_count": null,
      "outputs": []
    },
    {
      "cell_type": "code",
      "source": [],
      "metadata": {
        "id": "THUAK3U-lmEQ"
      },
      "execution_count": null,
      "outputs": []
    },
    {
      "cell_type": "code",
      "source": [
        "plt.scatter(X_train,y_train)\n",
        "plt.scatter(y_test,predictions)\n",
        "plt.plot(y_train,predictions,color='green')"
      ],
      "metadata": {
        "id": "Dm1HH6utiyBb"
      },
      "execution_count": null,
      "outputs": []
    },
    {
      "cell_type": "code",
      "source": [
        "plt.scatter(y_test,predictions)"
      ],
      "metadata": {
        "id": "M1gGeM93jimD"
      },
      "execution_count": null,
      "outputs": []
    },
    {
      "cell_type": "code",
      "source": [
        "plt.scatter(y_train,X_test)"
      ],
      "metadata": {
        "id": "CIXSuyz1jkoO"
      },
      "execution_count": null,
      "outputs": []
    },
    {
      "cell_type": "code",
      "source": [
        "y_train\n",
        "\n"
      ],
      "metadata": {
        "id": "oGGoybAOjp8T"
      },
      "execution_count": null,
      "outputs": []
    },
    {
      "cell_type": "code",
      "source": [
        "from sklearn import metrics\n"
      ],
      "metadata": {
        "id": "pmuB9G44g6K5"
      },
      "execution_count": null,
      "outputs": []
    },
    {
      "cell_type": "code",
      "source": [
        "print('MAE:', metrics.mean_absolute_error(y_test, predictions))\n",
        "print('MSE:', metrics.mean_squared_error(y_test, predictions))\n",
        "print('RMSE:', np.sqrt(metrics.mean_squared_error(y_test, predictions)))"
      ],
      "metadata": {
        "id": "8t0meECPh6Q8"
      },
      "execution_count": null,
      "outputs": []
    },
    {
      "cell_type": "code",
      "source": [
        "metrics.explained_variance_score(y_test, predictions)"
      ],
      "metadata": {
        "id": "l2T2UdhNh97q"
      },
      "execution_count": null,
      "outputs": []
    },
    {
      "cell_type": "code",
      "source": [
        "from sklearn.linear_model import LogisticRegression\n",
        "lr=LogisticRegression()\n",
        "lr.fit(X_train,y_train)\n",
        "lr_ypred=lr.predict(X_test)\n",
        "lr_acc = sklearn.metrics.accuracy_score(lr_ypred,y_test)\n",
        "print(\"Logistic Regression Accuracy: \")\n",
        "print(lr_acc*100,\"%\")"
      ],
      "metadata": {
        "id": "U8haaW7giv4w"
      },
      "execution_count": null,
      "outputs": []
    },
    {
      "cell_type": "code",
      "source": [
        "X_train\n"
      ],
      "metadata": {
        "id": "U1p_wbpFri6a"
      },
      "execution_count": null,
      "outputs": []
    },
    {
      "cell_type": "code",
      "source": [
        "y_train"
      ],
      "metadata": {
        "id": "R1GFnrnIrlHm"
      },
      "execution_count": null,
      "outputs": []
    },
    {
      "cell_type": "code",
      "source": [
        "from sklearn.svm import SVC \n",
        "svm=SVC(kernel=\"linear\",C=0.025,random_state=None)\n",
        "svm.fit(X_train,y_train)\n",
        "svm_ypred=svm.predict(X_test)\n",
        "svm_acc = sklearn.metrics.accuracy_score(svm_ypred,y_test)\n",
        "print(\"Support Vector Machine Accuracy: \")\n",
        "print(svm_acc*100,\"%\")"
      ],
      "metadata": {
        "id": "F3g5dLeRrdPJ"
      },
      "execution_count": null,
      "outputs": []
    },
    {
      "cell_type": "code",
      "source": [
        "from sklearn.naive_bayes import GaussianNB\n",
        "nb=GaussianNB()\n",
        "nb.fit(X_train,y_train)\n"
      ],
      "metadata": {
        "id": "a7TSGdlZmicR"
      },
      "execution_count": null,
      "outputs": []
    },
    {
      "cell_type": "code",
      "source": [
        "import numpy as np\n",
        "from sklearn                        import metrics, svm\n",
        "from sklearn.linear_model           import LinearRegression\n",
        "from sklearn.linear_model           import LogisticRegression\n",
        "from sklearn.tree                   import DecisionTreeClassifier\n",
        "from sklearn.neighbors              import KNeighborsClassifier\n",
        "from sklearn.discriminant_analysis  import LinearDiscriminantAnalysis\n",
        "from sklearn.naive_bayes            import GaussianNB\n",
        "from sklearn.svm                    import SVC\n",
        "\n",
        "\n",
        "\n",
        "clf = LinearRegression()\n",
        "clf.fit(X_train, y_train)\n",
        "print(\"LinearRegression\")\n",
        "\n",
        "\n",
        "clf = svm.SVR()\n",
        "clf.fit(X_train, y_train)\n",
        "print(\"SVR\")\n",
        "\n",
        "\n",
        "# clf = LogisticRegression()\n",
        "# clf.fit(X_train, y_train)\n",
        "# print(\"LogisticRegression\")\n",
        "\n",
        "\n",
        "clf = DecisionTreeClassifier()\n",
        "clf.fit(X_train, y_train)\n",
        "print(\"DecisionTreeClassifier\")\n",
        "\n",
        "\n",
        "clf = KNeighborsClassifier()\n",
        "clf.fit(X_train, y_train)\n",
        "print(\"KNeighborsClassifier\")\n",
        "\n",
        "\n",
        "clf = LinearDiscriminantAnalysis()\n",
        "clf.fit(X_train, y_train)\n",
        "print(\"LinearDiscriminantAnalysis\")\n",
        "\n",
        "\n",
        "clf = GaussianNB()\n",
        "clf.fit(X_train, y_train)\n",
        "print(\"GaussianNB\")\n",
        "\n",
        "\n",
        "clf = SVC()\n",
        "clf.fit(X_train, y_train)\n",
        "print(\"SVC\")\n",
        "\n"
      ],
      "metadata": {
        "id": "mm2G9TDSjK9M"
      },
      "execution_count": null,
      "outputs": []
    },
    {
      "cell_type": "markdown",
      "source": [],
      "metadata": {
        "id": "2-Lo9ie8j9hv"
      }
    },
    {
      "cell_type": "code",
      "source": [
        "\n",
        "import numpy as np\n",
        "from sklearn import linear_model\n",
        "from sklearn import svm\n",
        "\n",
        "classifiers = [\n",
        "    svm.SVR(),\n",
        "    linear_model.SGDRegressor(),\n",
        "    linear_model.BayesianRidge(),\n",
        "    linear_model.LassoLars(),\n",
        "    linear_model.ARDRegression(),\n",
        "    linear_model.PassiveAggressiveRegressor(),\n",
        "    linear_model.TheilSenRegressor(),\n",
        "    linear_model.LinearRegression()]\n",
        "\n",
        "X_train, X_test, y_train, y_test = train_test_split(X, y, test_size=0.3, random_state=42)\n",
        "for item in classifiers:\n",
        "    print(item)\n",
        "    clf = item\n",
        "    clf.fit(X_train,y_train)"
      ],
      "metadata": {
        "id": "70yYVCy0j9zL"
      },
      "execution_count": null,
      "outputs": []
    },
    {
      "cell_type": "code",
      "source": [
        "print(clf.predict(X_test,y_test)\n"
      ],
      "metadata": {
        "id": "0f7hs6u4l-jh"
      },
      "execution_count": null,
      "outputs": []
    },
    {
      "cell_type": "code",
      "source": [],
      "metadata": {
        "id": "lzKJsKqSlwpp"
      },
      "execution_count": null,
      "outputs": []
    }
  ]
}