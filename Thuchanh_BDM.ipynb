{
  "cells": [
    {
      "cell_type": "code",
      "execution_count": null,
      "metadata": {
        "collapsed": true,
        "id": "zYdqF01yUKCR"
      },
      "outputs": [],
      "source": [
        "# Load libraries\n",
        "import pandas as pd\n",
        "from pandas.plotting import scatter_matrix\n",
        "import matplotlib.pyplot as plt\n",
        "from sklearn import model_selection\n",
        "from sklearn.metrics import classification_report\n",
        "from sklearn.metrics import confusion_matrix\n",
        "from sklearn.metrics import accuracy_score\n",
        "from sklearn.linear_model import LogisticRegression\n",
        "from sklearn.tree import DecisionTreeClassifier\n",
        "from sklearn.neighbors import KNeighborsClassifier\n",
        "from sklearn.discriminant_analysis import LinearDiscriminantAnalysis\n",
        "from sklearn.naive_bayes import GaussianNB\n",
        "from sklearn.svm import SVC"
      ]
    },
    {
      "cell_type": "code",
      "execution_count": null,
      "metadata": {
        "id": "JJf6QZeVUKCU"
      },
      "outputs": [],
      "source": [
        "url = \"https://archive.ics.uci.edu/ml/machine-learning-databases/hepatitis/hepatitis.data\"\n",
        "names = ['sclass', 'age', 'sex', 'steroid', 'antivirals','fatigue','malaise',\n",
        "         'anorexia','liver-big','liver-firm','spleen-palpable','spiders','ascites','varices',\n",
        "         'bilirubin','alk-phosphate','sgot','alumin','protime','histology']\n",
        "dataset = pd.read_csv(url, names=names)"
      ]
    },
    {
      "cell_type": "code",
      "execution_count": null,
      "metadata": {
        "id": "clp7eP52UKCV"
      },
      "outputs": [],
      "source": [
        "dataset.columns"
      ]
    },
    {
      "cell_type": "code",
      "execution_count": null,
      "metadata": {
        "id": "PrjUTNjoUKCZ"
      },
      "outputs": [],
      "source": [
        "\n",
        "print(dataset.shape)\n",
        "dataset.head()"
      ]
    },
    {
      "cell_type": "code",
      "execution_count": null,
      "metadata": {
        "id": "V6fghGxGUKCb"
      },
      "outputs": [],
      "source": [
        "\n",
        "print(dataset.head(20))"
      ]
    },
    {
      "cell_type": "code",
      "execution_count": null,
      "metadata": {
        "id": "aIg_TGbWUKCc"
      },
      "outputs": [],
      "source": [
        "# \n",
        "print(dataset.describe())"
      ]
    },
    {
      "cell_type": "code",
      "execution_count": null,
      "metadata": {
        "id": "YuLbN_ZHUKCe"
      },
      "outputs": [],
      "source": [
        "# class distribution\n",
        "print(dataset.groupby('sclass').size())\n",
        "print(dataset.groupby('age').size())\n",
        "print(dataset.groupby('sex').size())\n",
        "print(dataset.groupby('antivirals').size())\n",
        "print(dataset.groupby('histology').size())\n"
      ]
    },
    {
      "cell_type": "code",
      "execution_count": null,
      "metadata": {
        "id": "mRfuNaU9UKCf"
      },
      "outputs": [],
      "source": [
        "# box and whisker plots\n",
        "dataset.plot(kind='box' , subplots=True, layout=(2,3), sharex=False, sharey=False )\n",
        "#dataset.plot(kind='box', subplots=True, layout=(1,5), sharex=False, sharey=False)\n",
        "print(\"This gives us a much clearer idea of the distribution of the input attributes:\")\n",
        "plt.show()"
      ]
    },
    {
      "cell_type": "code",
      "execution_count": null,
      "metadata": {
        "id": "Wh-4wZpeUKCg"
      },
      "outputs": [],
      "source": [
        "# histograms\n",
        "dataset.hist()\n",
        "print(\"It looks like perhaps two of the input variables have a Gaussian distribution \\n\")\n",
        "print(\"This is useful to note as we can use algorithms that can exploit this assumption.\")\n",
        "plt.show()"
      ]
    },
    {
      "cell_type": "code",
      "execution_count": null,
      "metadata": {
        "id": "SG9ZlIFhUKCh"
      },
      "outputs": [],
      "source": [
        "# scatter plot matrix\n",
        "scatter_matrix(dataset)\n",
        "print(\"Note the diagonal grouping of some pairs of attributes. \\\n",
        "This suggests a high correlation and a predictable relationship.\") \n",
        "plt.show()"
      ]
    },
    {
      "cell_type": "code",
      "execution_count": null,
      "metadata": {
        "id": "ohJgPolVUKCi"
      },
      "outputs": [],
      "source": [
        "labels = dataset.sclass.values\n",
        "#print(labels)\n",
        "features = dataset[['age', 'sex', 'steroid', 'antivirals','fatigue','malaise',\n",
        "         'anorexia','liver-big','liver-firm','spleen-palpable','spiders','ascites','varices',\n",
        "         'bilirubin','alk-phosphate','sgot','alumin','protime','histology']]\n",
        "#print(features)"
      ]
    },
    {
      "cell_type": "code",
      "execution_count": null,
      "metadata": {
        "id": "JMPfsPrpUKCi"
      },
      "outputs": [],
      "source": [
        "features.head()"
      ]
    },
    {
      "cell_type": "code",
      "execution_count": null,
      "metadata": {
        "id": "C8rIWT2hUKCi"
      },
      "outputs": [],
      "source": [
        "pd.get_dummies(features).head()"
      ]
    },
    {
      "cell_type": "code",
      "execution_count": null,
      "metadata": {
        "id": "oj1pnN6UUKCj"
      },
      "outputs": [],
      "source": [
        "features_dummies = pd.get_dummies(features, columns=['steroid', 'fatigue','malaise',\n",
        "         'anorexia','liver-big','liver-firm','spleen-palpable','spiders','ascites','varices',\n",
        "         'bilirubin','alk-phosphate','sgot','alumin','protime'])\n",
        "features_dummies.head(n=16)"
      ]
    },
    {
      "cell_type": "code",
      "execution_count": null,
      "metadata": {
        "collapsed": true,
        "id": "Y62ivWMIUKCj"
      },
      "outputs": [],
      "source": [
        "data = features_dummies.values"
      ]
    },
    {
      "cell_type": "code",
      "execution_count": null,
      "metadata": {
        "id": "pZxrpE22UKCk"
      },
      "outputs": [],
      "source": [
        "import numpy as np\n",
        "np.isnan(data).any()"
      ]
    },
    {
      "cell_type": "code",
      "execution_count": null,
      "metadata": {
        "id": "QQ-X7sjVUKCk"
      },
      "outputs": [],
      "source": [
        "from sklearn.model_selection import train_test_split\n",
        "from sklearn.preprocessing import Imputer\n",
        "# Use PreProcessing, when database is missing\n",
        "\n",
        "#train_data, test_data, train_labels, test_labels = train_test_split(data, labels, random_state=0)\n",
        "\n",
        "X_train, X_validation, Y_train, Y_validation = train_test_split(data, labels, random_state=0)\n",
        "\n",
        "imp = Imputer()\n",
        "#imp.fit(train_data)\n",
        "imp.fit(X_train)\n",
        "#train_data_finite = imp.transform(train_data)\n",
        "#test_data_finite = imp.transform(test_data)\n",
        "X_data_finite = imp.transform(X_train)\n",
        "Y_data_finite = imp.transform(X_validation)"
      ]
    },
    {
      "cell_type": "code",
      "execution_count": null,
      "metadata": {
        "id": "WwEJ_b5YUKCl"
      },
      "outputs": [],
      "source": [
        "from sklearn.dummy import DummyClassifier\n",
        "\n",
        "clf = DummyClassifier('most_frequent')\n",
        "#clf.fit(train_data_finite, train_labels)\n",
        "clf.fit(X_data_finite, Y_train)\n",
        "print(\"Prediction accuracy: %f\" % clf.score(Y_data_finite, Y_validation))\n",
        "\n",
        "#train_data_finite\n",
        "#train_labels\n",
        "#test_labels\n",
        "#test_data_finite"
      ]
    },
    {
      "cell_type": "code",
      "execution_count": null,
      "metadata": {
        "id": "sU3yBlUsUKCl"
      },
      "outputs": [],
      "source": [
        "# Split-out validation dataset\n",
        "#array = dataset.values\n",
        "#X = array[:,1:21]\n",
        "#Y = array[:,0]\n",
        "#validation_size = 0.20\n",
        "#seed = 7\n",
        "#X_train, X_validation, Y_train, Y_validation = \\\n",
        " #       model_selection.train_test_split(X, Y, test_size=validation_size, random_state=seed)"
      ]
    },
    {
      "cell_type": "code",
      "execution_count": null,
      "metadata": {
        "collapsed": true,
        "id": "B1IjOhQJUKCm"
      },
      "outputs": [],
      "source": [
        "# Test options and evaluation metric\n",
        "seed = 7\n",
        "scoring = 'accuracy'"
      ]
    },
    {
      "cell_type": "code",
      "execution_count": null,
      "metadata": {
        "id": "kfphaCTtUKCm"
      },
      "outputs": [],
      "source": [
        "# Spot Check Algorithms\n",
        "models = []\n",
        "models.append(('LR', LogisticRegression()))\n",
        "models.append(('LDA', LinearDiscriminantAnalysis()))\n",
        "models.append(('KNN', KNeighborsClassifier()))\n",
        "models.append(('CART', DecisionTreeClassifier()))\n",
        "models.append(('NB', GaussianNB()))\n",
        "models.append(('SVM', SVC()))\n",
        "\n",
        "print(type(models)) \n",
        "\n",
        "# evaluate each model in turn\n",
        "results = []\n",
        "names = []\n",
        "for name, model in models:\n",
        "    kfold = model_selection.KFold(n_splits=10, random_state=seed)\n",
        "    cv_results = model_selection.cross_val_score(model, X_train, Y_train, cv=kfold, scoring=scoring)\n",
        "    results.append(cv_results)\n",
        "    names.append(name)\n",
        "    msg = \"%s: %f (%f)\" % (name, cv_results.mean(), cv_results.std())\n",
        "    print(msg)"
      ]
    },
    {
      "cell_type": "code",
      "execution_count": null,
      "metadata": {
        "id": "q3fzTaICUKCn"
      },
      "outputs": [],
      "source": [
        "# Compare Algorithms\n",
        "fig = plt.figure()\n",
        "fig.suptitle('Algorithm Comparison')\n",
        "ax = fig.add_subplot(111)\n",
        "plt.boxplot(results)\n",
        "ax.set_xticklabels(names)\n",
        "plt.show()"
      ]
    },
    {
      "cell_type": "code",
      "execution_count": null,
      "metadata": {
        "id": "5oeGavWqUKCn"
      },
      "outputs": [],
      "source": [
        "# Make predictions on validation dataset\n",
        "knn = KNeighborsClassifier()\n",
        "knn.fit(X_train, Y_train)\n",
        "predictions = knn.predict(X_validation)\n",
        "print(accuracy_score(Y_validation, predictions))\n",
        "print(confusion_matrix(Y_validation, predictions))\n",
        "print(classification_report(Y_validation, predictions))"
      ]
    }
  ],
  "metadata": {
    "kernelspec": {
      "display_name": "Python 3",
      "language": "python",
      "name": "python3"
    },
    "language_info": {
      "codemirror_mode": {
        "name": "ipython",
        "version": 3
      },
      "file_extension": ".py",
      "mimetype": "text/x-python",
      "name": "python",
      "nbconvert_exporter": "python",
      "pygments_lexer": "ipython3",
      "version": "3.6.4"
    },
    "colab": {
      "provenance": []
    }
  },
  "nbformat": 4,
  "nbformat_minor": 0
}